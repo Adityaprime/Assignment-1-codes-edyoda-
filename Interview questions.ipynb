{
 "cells": [
  {
   "cell_type": "markdown",
   "id": "42220379",
   "metadata": {},
   "source": [
    "What is Python?\n",
    "Python is a high level interpreted programming language which is used to build any type of programming applications with correct libraries\n",
    "Another fact is that python also support obbs concept which is used for building real time object problems and solutions"
   ]
  },
  {
   "cell_type": "raw",
   "id": "2ec8b1fb",
   "metadata": {},
   "source": [
    "What are Data Types?\n",
    "Data Types are attributes to data which tells the computer/ machine how the programmer intends on using the data.\n",
    "some examples of it are integer , floating points , string, complex numbers .\n"
   ]
  },
  {
   "cell_type": "markdown",
   "id": "00c126fb",
   "metadata": {},
   "source": [
    "What is meant by immutable? What are the data types which are immutable?\n",
    "An immutable data type is a type of object of datatypes which cannot be changed after being created.\n",
    "some of the types of the data types which are immutable are strings, tuples,etc.\n"
   ]
  },
  {
   "cell_type": "markdown",
   "id": "dd587b85",
   "metadata": {},
   "source": [
    "What do you mean by sequence type datatypes? What datatypes fell into that catogary?\n",
    "Sequence datatypes are datatypes that are collection of objects which are ordered by some specific positions.\n",
    "The examples of these datatypes are lists , tuples , dict, sets\n",
    "\n"
   ]
  },
  {
   "cell_type": "raw",
   "id": "8dca72ea",
   "metadata": {},
   "source": [
    "Why is python called a dynamically typed language?\n",
    "Python is an interpreted language, executes each statement line by line \n",
    "and thus type-checking is done on the fly, during execution. Hence, Python is a Dynamically Typed Language."
   ]
  },
  {
   "cell_type": "raw",
   "id": "735212cb",
   "metadata": {},
   "source": [
    "What are list and tuples ? What are the differnce between them?\n",
    "List and Tuples both are sequence type data types that can store collection of data Major differences are that list uses\n",
    "square braces while tuple uses paranthesis One more difference is that items in lists are muutable i.e they are changeable \n",
    "while tuples are immutable they cant be changed after creation \n"
   ]
  },
  {
   "cell_type": "raw",
   "id": "29039a8c",
   "metadata": {},
   "source": [
    "What is the split function used for?\n",
    "The split function breaks the string into shorter strings using the defined separator.\n",
    "It returns the list of all the words present in the string."
   ]
  },
  {
   "cell_type": "raw",
   "id": "f731ea33",
   "metadata": {},
   "source": [
    "What is slicing in Python?\n",
    "Slicing is a technique that allows us to retrieve only a part of a list, tuple, or string. For this, we use the slicing operator []\n"
   ]
  },
  {
   "cell_type": "raw",
   "id": "e9cb8c89",
   "metadata": {},
   "source": [
    "How are identity operators different than the membership operators?\n",
    "Unlike membership operators, the identity operators compare the values to find out if they have the same value or not."
   ]
  },
  {
   "cell_type": "raw",
   "id": "cbf9eb95",
   "metadata": {},
   "source": [
    "What is break, continue and pass in Python?\n",
    "The break statement terminates the loop immediately and the control flows to the statement after the body of the loop.\n",
    "The continue statement terminates the current iteration of the statement, skips the rest of the code in\n",
    "the current iteration and the control flows to the next iteration of the loop.\n",
    "the pass keyword in Python is generally used to fill up empty blocks"
   ]
  },
  {
   "cell_type": "markdown",
   "id": "088dd174",
   "metadata": {},
   "source": [
    "Explain the ternary operator in Python.?\n",
    "The ternary operator in python is a conditional expression that evaluates the statements based on condition true or false\n",
    "the syantax for the following is\n",
    "executable statement if true else false exeecutable statement"
   ]
  },
  {
   "cell_type": "raw",
   "id": "2d187b9f",
   "metadata": {},
   "source": [
    "What are some types of string methods?\n",
    "Pythons has some built-in type of methods which returns new type of strings\n",
    "some of the methods are as followes \n",
    "upper() will give the results as uppercase string\n",
    "lower() will give the results as lowercase string\n",
    "join() will join the strings\n",
    "etc.\n"
   ]
  },
  {
   "cell_type": "raw",
   "id": "c14c4c6f",
   "metadata": {},
   "source": [
    "#13\n",
    "What is a function? \n",
    "When we want to execute a sequence of statements, we can give it a name \n",
    "so that we can use again without writing the code and make it reusable\n"
   ]
  },
  {
   "cell_type": "raw",
   "id": "2378a3e6",
   "metadata": {},
   "source": [
    "What is Encapsulation?\n",
    "Encapsulation in Python is the process of wrapping up variables and methods into a single entity."
   ]
  },
  {
   "cell_type": "raw",
   "id": "a3edecd8",
   "metadata": {},
   "source": [
    "How many arguments can the range() function take?\n",
    "The range() function in Python can take up to 3 arguments. Start ,Stop ,Step 3S of range "
   ]
  },
  {
   "cell_type": "raw",
   "id": "b722d085",
   "metadata": {},
   "source": [
    "What is polomorphism?\n",
    "Polymorphism is taken from the Greek words Poly (many) and morphism (forms).\n",
    "It means that the same function name can be used for different types. \n",
    "This makes programming more intuitive and easier."
   ]
  },
  {
   "cell_type": "raw",
   "id": "027c5da8",
   "metadata": {},
   "source": [
    "Does Python support an intrinsic do-while loop?\n",
    "No Python does not support an intrinsic do-while loop."
   ]
  },
  {
   "cell_type": "raw",
   "id": "c8a221c7",
   "metadata": {},
   "source": [
    "Explain Inheritance?\n",
    "Inheritance enables a class to acquire all the members of another class. These members can be attributes, methods, or both.\n",
    "By providing reusability, inheritance makes it easier to create as well as maintain an application."
   ]
  },
  {
   "cell_type": "raw",
   "id": "46a2450c",
   "metadata": {},
   "source": [
    "various types of Inheritance in Python?\n",
    "Single Inheritance – A single derived class acquires from on single superclass.\n",
    "Multi-Level Inheritance – At least 2 different derived classes acquire from two distinct base classes.\n",
    "Hierarchical Inheritance – A number of child classes acquire from one superclass\n",
    "Multiple Inheritance – A derived class acquires from several superclasses."
   ]
  },
  {
   "cell_type": "raw",
   "id": "0fc37b02",
   "metadata": {},
   "source": [
    "What is the map() function used for in Python?\n",
    "The map() function applies a given function to each item of an iterable. It then returns a list of the results. \n",
    "The value returned from the map() function can then be passed on to functions to the likes of the list() and set()."
   ]
  },
  {
   "cell_type": "raw",
   "id": "bb397522",
   "metadata": {},
   "source": []
  }
 ],
 "metadata": {
  "kernelspec": {
   "display_name": "Python 3 (ipykernel)",
   "language": "python",
   "name": "python3"
  },
  "language_info": {
   "codemirror_mode": {
    "name": "ipython",
    "version": 3
   },
   "file_extension": ".py",
   "mimetype": "text/x-python",
   "name": "python",
   "nbconvert_exporter": "python",
   "pygments_lexer": "ipython3",
   "version": "3.9.7"
  }
 },
 "nbformat": 4,
 "nbformat_minor": 5
}
