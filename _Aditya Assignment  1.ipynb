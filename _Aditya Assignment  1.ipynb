{
 "cells": [
  {
   "cell_type": "markdown",
   "id": "748b4b01",
   "metadata": {},
   "source": [
    "#1. Fibonacci Sequence"
   ]
  },
  {
   "cell_type": "code",
   "execution_count": 5,
   "id": "56101495",
   "metadata": {},
   "outputs": [
    {
     "name": "stdout",
     "output_type": "stream",
     "text": [
      "1\n",
      "1\n",
      "2\n",
      "3\n",
      "5\n",
      "8\n",
      "13\n",
      "21\n",
      "34\n"
     ]
    }
   ],
   "source": [
    " a=0;\n",
    "b=1;\n",
    "c=0;\n",
    "while b <50 :\n",
    "    print(b);\n",
    "    c=a+b;\n",
    "    a=b;\n",
    "    b=c;"
   ]
  },
  {
   "cell_type": "markdown",
   "id": "0d6ec2eb",
   "metadata": {},
   "source": [
    "# 2. Send the Words To Mirror Dimension "
   ]
  },
  {
   "cell_type": "code",
   "execution_count": 8,
   "id": "40244eb8",
   "metadata": {},
   "outputs": [
    {
     "name": "stdout",
     "output_type": "stream",
     "text": [
      "Enter the word to be reversed Aditya\n",
      "The reversed word is  aytidA\n"
     ]
    }
   ],
   "source": [
    "Word=input(\"Enter the word to be reversed \");\n",
    "str= Word[::-1];\n",
    "print(\"The reversed word is \",str);"
   ]
  },
  {
   "cell_type": "markdown",
   "id": "6b772319",
   "metadata": {},
   "source": [
    "#3. Write a Python program to count the number of even and odd numbers from a series of numbers.\n"
   ]
  },
  {
   "cell_type": "code",
   "execution_count": 10,
   "id": "da3ca22c",
   "metadata": {},
   "outputs": [
    {
     "name": "stdout",
     "output_type": "stream",
     "text": [
      "The number of even numbers are  4\n",
      "The number of odd numbers are  5\n"
     ]
    }
   ],
   "source": [
    "list=(1,2,3,4,5,6,7,8,9);\n",
    "a=0;\n",
    "b=0;\n",
    "for i in list:\n",
    "    if i%2==0:\n",
    "        a+=1;\n",
    "    else:\n",
    "        b+=1;\n",
    "\n",
    "print(\"The number of even numbers are \",a);\n",
    "print(\"The number of odd numbers are \",b);"
   ]
  },
  {
   "cell_type": "code",
   "execution_count": null,
   "id": "47a9d210",
   "metadata": {},
   "outputs": [],
   "source": []
  }
 ],
 "metadata": {
  "kernelspec": {
   "display_name": "Python 3 (ipykernel)",
   "language": "python",
   "name": "python3"
  },
  "language_info": {
   "codemirror_mode": {
    "name": "ipython",
    "version": 3
   },
   "file_extension": ".py",
   "mimetype": "text/x-python",
   "name": "python",
   "nbconvert_exporter": "python",
   "pygments_lexer": "ipython3",
   "version": "3.9.7"
  }
 },
 "nbformat": 4,
 "nbformat_minor": 5
}
