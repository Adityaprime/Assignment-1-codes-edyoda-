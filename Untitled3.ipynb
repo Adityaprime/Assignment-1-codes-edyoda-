{
 "cells": [
  {
   "cell_type": "code",
   "execution_count": null,
   "id": "4527910b",
   "metadata": {},
   "outputs": [],
   "source": [
    "#assignment Number 2 "
   ]
  },
  {
   "cell_type": "code",
   "execution_count": 2,
   "id": "5f190772",
   "metadata": {},
   "outputs": [
    {
     "name": "stdout",
     "output_type": "stream",
     "text": [
      "[(2, 1), (1, 2), (2, 3), (4, 4), (2, 5)]\n"
     ]
    }
   ],
   "source": [
    "tup =[(2, 5), (1, 2), (4, 4), (2, 3), (2, 1)]\n",
    "lst = len(tup)\n",
    "for i in range(0, lst):\n",
    "    for j in range(0, lst-i-1):\n",
    "        if (tup[j][-1] > tup[j + 1][-1]):\n",
    "            temp = tup[j]\n",
    "            tup[j]= tup[j + 1]\n",
    "            tup[j + 1]= temp\n",
    "            \n",
    "print(tup)            \n"
   ]
  },
  {
   "cell_type": "code",
   "execution_count": 3,
   "id": "f89b1c3f",
   "metadata": {},
   "outputs": [
    {
     "name": "stdout",
     "output_type": "stream",
     "text": [
      "{'a': 97, 'b': 98, 'c': 99, 'd': 100, 'e': 101, 'f': 102, 'g': 103, 'h': 104, 'i': 105, 'j': 106, 'k': 107, 'l': 108, 'm': 109, 'n': 110, 'o': 111, 'p': 112, 'q': 113, 'r': 114, 's': 115, 't': 116, 'u': 117, 'v': 118, 'w': 119, 'x': 120, 'y': 121, 'z': 122}\n"
     ]
    }
   ],
   "source": [
    "import string\n",
    "d = dict.fromkeys(string.ascii_lowercase)\n",
    "d\n",
    "for k, v in d.items():\n",
    "    d[k]=ord(k)\n",
    "\n",
    "print(d)"
   ]
  },
  {
   "cell_type": "code",
   "execution_count": null,
   "id": "0c9bcc66",
   "metadata": {},
   "outputs": [],
   "source": []
  }
 ],
 "metadata": {
  "kernelspec": {
   "display_name": "Python 3 (ipykernel)",
   "language": "python",
   "name": "python3"
  },
  "language_info": {
   "codemirror_mode": {
    "name": "ipython",
    "version": 3
   },
   "file_extension": ".py",
   "mimetype": "text/x-python",
   "name": "python",
   "nbconvert_exporter": "python",
   "pygments_lexer": "ipython3",
   "version": "3.9.7"
  }
 },
 "nbformat": 4,
 "nbformat_minor": 5
}
