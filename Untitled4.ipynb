{
 "cells": [
  {
   "cell_type": "raw",
   "id": "fc3e4707",
   "metadata": {},
   "source": [
    "Assignment class"
   ]
  },
  {
   "cell_type": "code",
   "execution_count": 1,
   "id": "7c7b3317",
   "metadata": {},
   "outputs": [],
   "source": [
    "class py_solution:\n",
    "   def pow(self, x, n):\n",
    "        if x==0 or x==1 or n==1:\n",
    "            return x \n",
    "\n",
    "        if x==-1:\n",
    "            if n%2 ==0:\n",
    "                return 1\n",
    "            else:\n",
    "                return -1\n",
    "        if n==0:\n",
    "            return 1\n",
    "        if n<0:\n",
    "            return 1/self.pow(x,-n)\n",
    "        val = self.pow(x,n//2)\n",
    "        if n%2 ==0:\n",
    "            return val*val\n",
    "        return val*val*x"
   ]
  },
  {
   "cell_type": "code",
   "execution_count": 2,
   "id": "c1d97715",
   "metadata": {},
   "outputs": [
    {
     "name": "stdout",
     "output_type": "stream",
     "text": [
      "100\n",
      "10000\n"
     ]
    }
   ],
   "source": [
    "print(py_solution().pow(10, 2));\n",
    "print(py_solution().pow(10, 4));"
   ]
  },
  {
   "cell_type": "code",
   "execution_count": null,
   "id": "d7af7ab4",
   "metadata": {},
   "outputs": [],
   "source": []
  }
 ],
 "metadata": {
  "kernelspec": {
   "display_name": "Python 3 (ipykernel)",
   "language": "python",
   "name": "python3"
  },
  "language_info": {
   "codemirror_mode": {
    "name": "ipython",
    "version": 3
   },
   "file_extension": ".py",
   "mimetype": "text/x-python",
   "name": "python",
   "nbconvert_exporter": "python",
   "pygments_lexer": "ipython3",
   "version": "3.9.7"
  }
 },
 "nbformat": 4,
 "nbformat_minor": 5
}
