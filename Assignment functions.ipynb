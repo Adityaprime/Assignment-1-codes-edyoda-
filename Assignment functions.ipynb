{
 "cells": [
  {
   "cell_type": "raw",
   "id": "d5749cd7",
   "metadata": {},
   "source": [
    "Assignment question 1"
   ]
  },
  {
   "cell_type": "code",
   "execution_count": 1,
   "id": "ceebd9ae",
   "metadata": {},
   "outputs": [
    {
     "data": {
      "text/plain": [
       "20"
      ]
     },
     "execution_count": 1,
     "metadata": {},
     "output_type": "execute_result"
    }
   ],
   "source": [
    "def summ(num):\n",
    "    sum= 0\n",
    "    for i in num:\n",
    "        sum+= i\n",
    "    return sum\n",
    "\n",
    "list=[8, 2, 3, 0, 7]#sample data\n",
    "summ(list)"
   ]
  },
  {
   "cell_type": "code",
   "execution_count": 2,
   "id": "ef8a5080",
   "metadata": {},
   "outputs": [
    {
     "name": "stdout",
     "output_type": "stream",
     "text": [
      "Enter the list items : 22 2 22 111 123 22\n"
     ]
    },
    {
     "data": {
      "text/plain": [
       "302"
      ]
     },
     "execution_count": 2,
     "metadata": {},
     "output_type": "execute_result"
    }
   ],
   "source": [
    "lst1 = [int(item) for item in input(\"Enter the list items : \").split()] #user input\n",
    "summ(lst1)"
   ]
  },
  {
   "cell_type": "raw",
   "id": "91f23c6f",
   "metadata": {},
   "source": [
    "question 2\n"
   ]
  },
  {
   "cell_type": "code",
   "execution_count": 3,
   "id": "c21840a5",
   "metadata": {},
   "outputs": [
    {
     "data": {
      "text/plain": [
       "'dcba4321'"
      ]
     },
     "execution_count": 3,
     "metadata": {},
     "output_type": "execute_result"
    }
   ],
   "source": [
    "def reverse(srtr):\n",
    "    str2=''\n",
    "    for i in srtr:\n",
    "        str2=i+str2;\n",
    "    return str2\n",
    "a= \"1234abcd\"#sample input\n",
    "reverse(a)\n"
   ]
  },
  {
   "cell_type": "code",
   "execution_count": 4,
   "id": "41a2964c",
   "metadata": {},
   "outputs": [
    {
     "name": "stdout",
     "output_type": "stream",
     "text": [
      "Enter string to be reversedasdfdsasdfdsa\n"
     ]
    },
    {
     "data": {
      "text/plain": [
       "'asdfdsasdfdsa'"
      ]
     },
     "execution_count": 4,
     "metadata": {},
     "output_type": "execute_result"
    }
   ],
   "source": [
    "b=input(\"Enter string to be reversed\")# user input\n",
    "reverse(b)"
   ]
  },
  {
   "cell_type": "raw",
   "id": "d4da63f7",
   "metadata": {},
   "source": [
    "question 3"
   ]
  },
  {
   "cell_type": "code",
   "execution_count": 5,
   "id": "11c17789",
   "metadata": {},
   "outputs": [
    {
     "name": "stdout",
     "output_type": "stream",
     "text": [
      "Given string is: MYnsmeisadityaKh\n",
      "No. of Upper case characters : 3\n",
      "No. of Lower case Characters : 13\n"
     ]
    }
   ],
   "source": [
    "def counttt(str):\n",
    "    count1=0;\n",
    "    countcaps=0;\n",
    "    str1=''\n",
    "    str1=\"\".join(str.split())\n",
    "    print(\"Given string is:\",str1)\n",
    "    for i in str1:\n",
    "        if i.islower():\n",
    "            count1+=1;\n",
    "        else:\n",
    "            countcaps+=1;\n",
    "    print(\"No. of Upper case characters :\",countcaps)        \n",
    "    print(\"No. of Lower case Characters :\",count1)        \n",
    "counttt(\"MY nsme is aditya Kh\")#sample data"
   ]
  },
  {
   "cell_type": "code",
   "execution_count": 6,
   "id": "59b2f47b",
   "metadata": {},
   "outputs": [
    {
     "name": "stdout",
     "output_type": "stream",
     "text": [
      "Enter the string and calculate the lower and upper case:my NAME IS adityahbemd kyuqw\n",
      "Given string is: myNAMEISadityahbemdkyuqw\n",
      "No. of Upper case characters : 6\n",
      "No. of Lower case Characters : 18\n"
     ]
    }
   ],
   "source": [
    "a=input(\"Enter the string and calculate the lower and upper case:\")\n",
    "counttt(a)"
   ]
  },
  {
   "cell_type": "code",
   "execution_count": null,
   "id": "9d261d8a",
   "metadata": {},
   "outputs": [],
   "source": []
  }
 ],
 "metadata": {
  "kernelspec": {
   "display_name": "Python 3 (ipykernel)",
   "language": "python",
   "name": "python3"
  },
  "language_info": {
   "codemirror_mode": {
    "name": "ipython",
    "version": 3
   },
   "file_extension": ".py",
   "mimetype": "text/x-python",
   "name": "python",
   "nbconvert_exporter": "python",
   "pygments_lexer": "ipython3",
   "version": "3.9.7"
  }
 },
 "nbformat": 4,
 "nbformat_minor": 5
}
