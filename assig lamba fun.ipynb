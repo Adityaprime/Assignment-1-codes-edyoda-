{
 "cells": [
  {
   "cell_type": "markdown",
   "id": "5bb0412a",
   "metadata": {},
   "source": [
    "Assignment 4 question 1"
   ]
  },
  {
   "cell_type": "code",
   "execution_count": 21,
   "id": "8e1abdc7",
   "metadata": {},
   "outputs": [
    {
     "name": "stdout",
     "output_type": "stream",
     "text": [
      "35\n"
     ]
    }
   ],
   "source": [
    "r = lambda a : a + 25\n",
    "print(r(10))\n"
   ]
  },
  {
   "cell_type": "code",
   "execution_count": 22,
   "id": "5f4def4e",
   "metadata": {},
   "outputs": [
    {
     "data": {
      "text/plain": [
       "45"
      ]
     },
     "execution_count": 22,
     "metadata": {},
     "output_type": "execute_result"
    }
   ],
   "source": [
    "r(20)#sample input data"
   ]
  },
  {
   "cell_type": "code",
   "execution_count": 23,
   "id": "8f1b1554",
   "metadata": {},
   "outputs": [
    {
     "name": "stdout",
     "output_type": "stream",
     "text": [
      "Enter the number to be added : 2345\n",
      "2370 is the added number\n"
     ]
    }
   ],
   "source": [
    "n = int(input(\"Enter the number to be added : \")) #user input case\n",
    "print(r(n),\"is the added number\")"
   ]
  },
  {
   "cell_type": "markdown",
   "id": "175fa257",
   "metadata": {},
   "source": [
    "question 2"
   ]
  },
  {
   "cell_type": "code",
   "execution_count": 24,
   "id": "59a6245e",
   "metadata": {},
   "outputs": [
    {
     "name": "stdout",
     "output_type": "stream",
     "text": [
      "[0, 1.5, 9, 15, 18, 21, 6, -15, 3]\n"
     ]
    }
   ],
   "source": [
    "nums= [0,0.5,3,5,6,7,2,-5,4-3]#all the cases Negative, Zero, Assignment float string points\n",
    "result = map(lambda x: x *3, nums) \n",
    "print(list(result))\n"
   ]
  },
  {
   "cell_type": "markdown",
   "id": "45b54e02",
   "metadata": {},
   "source": [
    "question 3"
   ]
  },
  {
   "cell_type": "code",
   "execution_count": 25,
   "id": "7050ad90",
   "metadata": {},
   "outputs": [
    {
     "name": "stdout",
     "output_type": "stream",
     "text": [
      "[0, 0.25, 9, 25, 36, 49, 4, 25, 1]\n"
     ]
    }
   ],
   "source": [
    "result = map(lambda x: x **2, nums) # same input a above\n",
    "print(list(result))"
   ]
  },
  {
   "cell_type": "code",
   "execution_count": null,
   "id": "5b29a11e",
   "metadata": {},
   "outputs": [],
   "source": []
  },
  {
   "cell_type": "code",
   "execution_count": null,
   "id": "13284f5c",
   "metadata": {},
   "outputs": [],
   "source": []
  }
 ],
 "metadata": {
  "kernelspec": {
   "display_name": "Python 3 (ipykernel)",
   "language": "python",
   "name": "python3"
  },
  "language_info": {
   "codemirror_mode": {
    "name": "ipython",
    "version": 3
   },
   "file_extension": ".py",
   "mimetype": "text/x-python",
   "name": "python",
   "nbconvert_exporter": "python",
   "pygments_lexer": "ipython3",
   "version": "3.9.7"
  }
 },
 "nbformat": 4,
 "nbformat_minor": 5
}
