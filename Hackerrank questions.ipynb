{
 "cells": [
  {
   "cell_type": "code",
   "execution_count": 12,
   "id": "437aa820",
   "metadata": {},
   "outputs": [
    {
     "name": "stdout",
     "output_type": "stream",
     "text": [
      "2\n",
      "Adiya 23 34 45\n",
      "khand 34 56 45\n",
      "Adiya\n",
      "34.00\n"
     ]
    }
   ],
   "source": [
    " #https://www.hackerrank.com/challenges/finding-the-percentage/problem\n",
    "    #Finding the percentage in Python - Hacker Rank Solution\n",
    "if __name__ == '__main__':\n",
    "    n = int(input())\n",
    "    student_marks = {}\n",
    "    for _ in range(n):\n",
    "        name, *line = input().split()\n",
    "        scores = list(map(float, line))\n",
    "        student_marks[name] = scores\n",
    "    query_name = input()\n",
    "    output = list(student_marks[query_name])\n",
    "    per = sum(output)/len(output);\n",
    "    print(\"%.2f\" % per);\n"
   ]
  },
  {
   "cell_type": "code",
   "execution_count": 41,
   "id": "7d5ab83c",
   "metadata": {},
   "outputs": [
    {
     "name": "stdout",
     "output_type": "stream",
     "text": [
      "this is a string\n",
      "this-is-a-string\n"
     ]
    }
   ],
   "source": [
    "#https://www.hackerrank.com/challenges/python-string-split-and-join/problem\n",
    "def split_and_join(line):\n",
    "    a=line\n",
    "    a=a.split(\" \")\n",
    "    b=\"-\".join(a)\n",
    "    return b\n",
    "if __name__ == '__main__':\n",
    "    line = input()\n",
    "    result = split_and_join(line)\n",
    "    print(result)"
   ]
  },
  {
   "cell_type": "code",
   "execution_count": 43,
   "id": "3de952a4",
   "metadata": {},
   "outputs": [
    {
     "name": "stdout",
     "output_type": "stream",
     "text": [
      "My Name is Aditya I am a boy\n",
      "My-Name-is-Aditya-I-am-a-boy\n"
     ]
    }
   ],
   "source": [
    "    line = input()# 2nd input try\n",
    "    result = split_and_join(line)\n",
    "    print(result)"
   ]
  },
  {
   "cell_type": "code",
   "execution_count": 34,
   "id": "c3d1825d",
   "metadata": {},
   "outputs": [
    {
     "name": "stdout",
     "output_type": "stream",
     "text": [
      "Enter the number of students subs to English4\n",
      "Enter there Roll numbers\n",
      "22 11 33 44\n",
      "{33, 11, 44, 22}\n",
      "Enter the number of french subs5\n",
      "Enter there roll numbers\n",
      "11 32 33 23 44\n",
      "{32, 33, 11, 44, 23}\n",
      "3\n"
     ]
    }
   ],
   "source": [
    "#https://www.hackerrank.com/challenges/py-set-intersection-operation/problem\n",
    "if __name__ == '__main__':\n",
    "    while True:\n",
    "        n=int(input(\"Enter the number of students subs to English\"))\n",
    "        print(\"Enter there Roll numbers\")\n",
    "        line = input().split()\n",
    "        scores = list(map(int, line))\n",
    "        b=list(scores)\n",
    "        if len(b)==n:\n",
    "            s=set(b)\n",
    "            print(s)\n",
    "            while True:\n",
    "                v=int(input(\"Enter the number of french subs\"))\n",
    "                print(\"Enter there roll numbers\")\n",
    "                rol_no= input().split()\n",
    "                fr_rn= list(map(int, rol_no))\n",
    "                c=list(fr_rn)\n",
    "                if len(c)==v:\n",
    "                    l=set(c)\n",
    "                    print(l)\n",
    "                    tol=s.intersection(l)\n",
    "                    print(len(tol))\n",
    "                    break\n",
    "                else:\n",
    "                    print(\"French subs roll number is incorrect\")\n",
    "            break    \n",
    "        else:\n",
    "            print(\" number of roll numbers is incorrect \")"
   ]
  },
  {
   "cell_type": "code",
   "execution_count": 1,
   "id": "e4b94ab2",
   "metadata": {},
   "outputs": [
    {
     "name": "stdout",
     "output_type": "stream",
     "text": [
      "4\n",
      "22 33 44 55\n",
      "44\n"
     ]
    }
   ],
   "source": [
    "#https://www.hackerrank.com/challenges/find-second-maximum-number-in-a-list/problem\n",
    "if __name__ == '__main__':\n",
    "    import sys\n",
    "    n = int(input())\n",
    "    arr = map(int, input().split())\n",
    "    a=set(arr)\n",
    "    p=list(a)\n",
    "    first=second=-sys.maxsize\n",
    "    for i in range(len(p)):\n",
    "        if p[i] > first:\n",
    "            second = first\n",
    "            first = p[i]\n",
    "        elif p[i] > second:\n",
    "            second = p[i]\n",
    "    print(second)        "
   ]
  },
  {
   "cell_type": "code",
   "execution_count": 36,
   "id": "0a724479",
   "metadata": {},
   "outputs": [
    {
     "name": "stdout",
     "output_type": "stream",
     "text": [
      "sdfghjkl;lkjhgfghj\n",
      "SDFGHJKL;LKJHGFGHJ\n"
     ]
    }
   ],
   "source": [
    "#https://www.hackerrank.com/challenges/swap-case/problem\n",
    "def swap_case(s):\n",
    "    m=s.swapcase()\n",
    "    return m\n",
    "if __name__ == '__main__':\n",
    "    s = input()\n",
    "    result = swap_case(s)\n",
    "    print(result)"
   ]
  },
  {
   "cell_type": "code",
   "execution_count": 47,
   "id": "e6588126",
   "metadata": {},
   "outputs": [
    {
     "name": "stdout",
     "output_type": "stream",
     "text": [
      "a\n",
      "k\n",
      "Hello a k! You just delved into python.\n"
     ]
    }
   ],
   "source": [
    "#Extra\n",
    "def print_full_name(first, last):\n",
    "    fullname=first+\" \"+last+\"!\"\n",
    "    print(\"Hello\",fullname,\"You just delved into python.\")\n",
    "\n",
    "if __name__ == '__main__':\n",
    "    first_name = input()\n",
    "    last_name = input()\n",
    "    print_full_name(first_name, last_name)"
   ]
  },
  {
   "cell_type": "code",
   "execution_count": 1,
   "id": "5666169f",
   "metadata": {},
   "outputs": [
    {
     "name": "stdout",
     "output_type": "stream",
     "text": [
      "4\n",
      "6\n",
      "10\n",
      "-2\n",
      "24\n"
     ]
    }
   ],
   "source": [
    "#https://www.hackerrank.com/challenges/python-arithmetic-operators/problem  \n",
    "    if __name__ == '__main__':\n",
    "        a = int(input())\n",
    "        b = int(input())\n",
    "        print(a+b)\n",
    "        print(a-b)\n",
    "        print(a*b)"
   ]
  },
  {
   "cell_type": "code",
   "execution_count": 3,
   "id": "118959d0",
   "metadata": {},
   "outputs": [
    {
     "name": "stdout",
     "output_type": "stream",
     "text": [
      "5\n",
      "8\n",
      "0\n",
      "0.625\n"
     ]
    }
   ],
   "source": [
    "#https://www.hackerrank.com/challenges/python-division/problem\n",
    "if __name__ == '__main__':\n",
    "    a = int(input())\n",
    "    b = int(input())\n",
    "    print(a//b)\n",
    "    print(a/b)"
   ]
  },
  {
   "cell_type": "code",
   "execution_count": 25,
   "id": "4994b307",
   "metadata": {},
   "outputs": [
    {
     "name": "stdout",
     "output_type": "stream",
     "text": [
      "3 2 1 0 -7 -4 -8 0 34 22 -78\n",
      "0.454545\n",
      "0.363636\n",
      "0.181818\n"
     ]
    }
   ],
   "source": [
    "#extra\n",
    "def plusMinus(arr):\n",
    "    a=len(arr)\n",
    "    count=0\n",
    "    countn=0\n",
    "    countz=0\n",
    "    \n",
    "    for i in range(a):\n",
    "        if arr[i]>0:\n",
    "            count+=1\n",
    "        elif arr[i]<0:\n",
    "            countn+=1\n",
    "        elif arr[i]==0:\n",
    "            countz+=1        \n",
    "    pp=count/a\n",
    "    nn=countn/a\n",
    "    ze=countz/a\n",
    "    print('%.6f'%pp)\n",
    "    print('%.6f'%nn)\n",
    "    print('%.6f'%ze)\n",
    "\n",
    "\n",
    "if __name__ == '__main__':\n",
    "    #\n",
    "\n",
    "    arr = list(map(int, input().rstrip().split()))\n",
    "\n",
    "    plusMinus(arr)"
   ]
  },
  {
   "cell_type": "code",
   "execution_count": 20,
   "id": "bf4a2cc4",
   "metadata": {},
   "outputs": [
    {
     "name": "stdout",
     "output_type": "stream",
     "text": [
      "22\n",
      "Not Weird\n"
     ]
    }
   ],
   "source": [
    "#https://www.hackerrank.com/challenges/py-if-else/problem\n",
    "\n",
    "import math\n",
    "import os\n",
    "import random\n",
    "import re\n",
    "22\n",
    "import sys\n",
    "\n",
    "\n",
    "\n",
    "if __name__ == '__main__':\n",
    "    n = int(input().strip())\n",
    "    if n%2==1:\n",
    "        print(\"Weird\")\n",
    "    elif n%2==0:\n",
    "        if n>1 and n<6:\n",
    "            print(\"Not Weird\")\n",
    "        elif n>5 and n<=20:\n",
    "            print(\"Weird\")\n",
    "        elif n>20:\n",
    "            print(\"Not Weird\")"
   ]
  },
  {
   "cell_type": "code",
   "execution_count": 4,
   "id": "1f54ffa3",
   "metadata": {},
   "outputs": [
    {
     "name": "stdout",
     "output_type": "stream",
     "text": [
      "2\n",
      "a\n",
      "12\n",
      "aa13\n",
      "13\n",
      "[['a', 12.0], ['aa13', 13.0]]\n",
      "[['a', 12.0], ['aa13', 13.0]]\n",
      "aa13\n"
     ]
    }
   ],
   "source": [
    "#https://www.hackerrank.com/challenges/nested-list/problem\n",
    "#try 1\n",
    "if __name__ == '__main__':\n",
    "    listt=[]\n",
    "    scores=[]\n",
    "    for _ in range(int(input())):\n",
    "        name = input()\n",
    "        score = float(input())\n",
    "        listt.append([name,score])\n",
    "        scores.append(score)\n",
    "    #print(listt)    \n",
    "    listt.sort()\n",
    "    #print(listt)\n",
    "    a=set(scores)\n",
    "    b=list(a)\n",
    "    b.sort()\n",
    "    sl=b[1]\n",
    "    for i in range(len(listt)):\n",
    "        if listt[i][1]==sl:\n",
    "            print(listt[i][0])\n",
    "        else:\n",
    "            pass\n",
    "        \n",
    "        "
   ]
  },
  {
   "cell_type": "code",
   "execution_count": 9,
   "id": "36781ca1",
   "metadata": {},
   "outputs": [
    {
     "name": "stdout",
     "output_type": "stream",
     "text": [
      "3\n",
      "adf\n",
      "23\n",
      "hart\n",
      "24\n",
      "cart\n",
      "24\n",
      "cart\n",
      "hart\n"
     ]
    }
   ],
   "source": [
    "#https://www.hackerrank.com/challenges/nested-list/problem\n",
    "#\n",
    "if __name__ == '__main__':\n",
    "    listt=[]\n",
    "    scores=[]\n",
    "    for _ in range(int(input())):\n",
    "        name = input()\n",
    "        score = float(input())\n",
    "        listt.append([name,score])\n",
    "        scores.append(score)\n",
    "    a=set(scores)\n",
    "    b=list(a)\n",
    "    b.sort()\n",
    "    sl=b[1]\n",
    "    names=[]\n",
    "    for i in range(len(listt)):\n",
    "        if listt[i][1]==sl:\n",
    "            names.append(listt[i][0])\n",
    "        else:\n",
    "            pass\n",
    "    names.sort()    \n",
    "    for i in range(len(names)):\n",
    "        print(names[i])"
   ]
  },
  {
   "cell_type": "code",
   "execution_count": 6,
   "id": "bccc9194",
   "metadata": {},
   "outputs": [
    {
     "name": "stdout",
     "output_type": "stream",
     "text": [
      "5\n",
      "0\n",
      "1\n",
      "4\n",
      "9\n",
      "16\n"
     ]
    }
   ],
   "source": [
    "#https://www.hackerrank.com/challenges/python-loops/problem\n",
    "if __name__ == '__main__':\n",
    "    n = int(input())\n",
    "    for i in range(n):\n",
    "        print(i*i)"
   ]
  },
  {
   "cell_type": "code",
   "execution_count": 17,
   "id": "458166cc",
   "metadata": {},
   "outputs": [
    {
     "name": "stdout",
     "output_type": "stream",
     "text": [
      "2000\n",
      "True\n"
     ]
    }
   ],
   "source": [
    "#https://www.hackerrank.com/challenges/write-a-function/problem\n",
    "    def is_leap(year):\n",
    "        leap = False\n",
    "        if (year%4)==0:\n",
    "            if (year%100)==0:\n",
    "                if (year%400)==0:\n",
    "                    return True\n",
    "                else:\n",
    "                    return leap\n",
    "            else:\n",
    "                return True\n",
    "        else:\n",
    "            return leap\n",
    "\n",
    "    year = int(input())\n",
    "    print(is_leap(year))"
   ]
  },
  {
   "cell_type": "code",
   "execution_count": 25,
   "id": "afa2112d",
   "metadata": {},
   "outputs": [
    {
     "name": "stdout",
     "output_type": "stream",
     "text": [
      "AdityaAdityaAdityaAdiadAdi\n",
      "Adi\n",
      "5\n"
     ]
    }
   ],
   "source": [
    "#https://www.hackerrank.com/challenges/find-a-string/problem\n",
    "def count_substring(string, sub_string):\n",
    "    count=0\n",
    "    l=len(sub_string)\n",
    "    for i in range(len(string)):\n",
    "        if string[i:i+l]==sub_string:\n",
    "            count+=1\n",
    "    return count\n",
    "\n",
    "if __name__ == '__main__':\n",
    "    string = input().strip()\n",
    "    sub_string = input().strip()\n",
    "    \n",
    "    count = count_substring(string, sub_string)\n",
    "    print(count)\n",
    "    \n"
   ]
  },
  {
   "cell_type": "code",
   "execution_count": null,
   "id": "8be9f6fd",
   "metadata": {},
   "outputs": [],
   "source": []
  },
  {
   "cell_type": "code",
   "execution_count": 34,
   "id": "20b95d10",
   "metadata": {},
   "outputs": [
    {
     "name": "stdout",
     "output_type": "stream",
     "text": [
      "3\n",
      "insert 0 3\n",
      "insert 1 5\n",
      "print\n",
      "[3, 5]\n"
     ]
    }
   ],
   "source": [
    "#https://www.hackerrank.com/challenges/python-lists/problem \n",
    "if __name__ == '__main__':\n",
    "    N = int(input())\n",
    "    arr = [];\n",
    "    for i in range(0,N):\n",
    "        Listin = input().split();\n",
    "        if Listin[0] == \"print\":\n",
    "            print(arr)\n",
    "        elif Listin[0] == \"insert\":\n",
    "            arr.insert(int(Listin[1]),int(Listin[2]))\n",
    "        elif Listin[0] == \"remove\":\n",
    "            arr.remove(int(Listin[1]))\n",
    "        elif Listin[0] == \"pop\":\n",
    "            arr.pop();\n",
    "        elif Listin[0] == \"append\":\n",
    "            arr.append(int(Listin[1]))\n",
    "        elif Listin[0] == \"sort\":\n",
    "            arr.sort();\n",
    "        else:\n",
    "            arr.reverse();"
   ]
  },
  {
   "cell_type": "code",
   "execution_count": null,
   "id": "12d4f73e",
   "metadata": {},
   "outputs": [],
   "source": []
  },
  {
   "cell_type": "code",
   "execution_count": null,
   "id": "1b577895",
   "metadata": {},
   "outputs": [],
   "source": []
  }
 ],
 "metadata": {
  "kernelspec": {
   "display_name": "Python 3 (ipykernel)",
   "language": "python",
   "name": "python3"
  },
  "language_info": {
   "codemirror_mode": {
    "name": "ipython",
    "version": 3
   },
   "file_extension": ".py",
   "mimetype": "text/x-python",
   "name": "python",
   "nbconvert_exporter": "python",
   "pygments_lexer": "ipython3",
   "version": "3.9.7"
  }
 },
 "nbformat": 4,
 "nbformat_minor": 5
}
